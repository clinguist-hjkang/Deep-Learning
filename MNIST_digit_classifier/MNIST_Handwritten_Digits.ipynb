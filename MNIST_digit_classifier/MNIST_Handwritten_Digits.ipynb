{
 "cells": [
  {
   "cell_type": "markdown",
   "metadata": {
    "id": "Zh_lF8O0Anr7"
   },
   "source": [
    "# Introduction\n",
    "\n",
    "In this project, you will build a neural network of your own design to evaluate the MNIST dataset.\n",
    "\n",
    "Some of the benchmark results on MNIST include can be found [on Yann LeCun's page](http://yann.lecun.com/exdb/mnist/) and include:\n",
    "\n",
    "88% [Lecun et al., 1998](http://yann.lecun.com/exdb/publis/pdf/lecun-98.pdf)\n",
    "95.3% [Lecun et al., 1998](http://yann.lecun.com/exdb/publis/pdf/lecun-98.pdf)\n",
    "99.65% [Ciresan et al., 2011](http://people.idsia.ch/~juergen/ijcai2011.pdf)\n",
    "\n",
    "MNIST is a great dataset for sanity checking your models, since the accuracy levels achieved by large convolutional neural networks and small linear models are both quite high. This makes it important to be familiar with the data.\n",
    "\n",
    "## Imports"
   ]
  },
  {
   "cell_type": "code",
   "execution_count": 1,
   "metadata": {
    "id": "legT3J-CAnr-"
   },
   "outputs": [],
   "source": [
    "## This cell contains the essential imports you will need – DO NOT CHANGE THE CONTENTS! ##\n",
    "import torch\n",
    "import torch.nn as nn\n",
    "import torch.nn.functional as F\n",
    "import torch.optim as optim\n",
    "import torchvision\n",
    "import torchvision.transforms as transforms\n",
    "import matplotlib.pyplot as plt\n",
    "import numpy as np"
   ]
  },
  {
   "cell_type": "markdown",
   "metadata": {
    "id": "rYniyaAlAnr_"
   },
   "source": [
    "## Load the Dataset\n",
    "\n",
    "Specify your transforms as a list if you intend to .\n",
    "The transforms module is already loaded as `transforms`.\n",
    "\n",
    "MNIST is fortunately included in the torchvision module.\n",
    "Then, you can create your dataset using the `MNIST` object from `torchvision.datasets` ([the documentation is available here](https://pytorch.org/vision/stable/datasets.html#mnist)).\n",
    "Make sure to specify `download=True`! \n",
    "\n",
    "Once your dataset is created, you'll also need to define a `DataLoader` from the `torch.utils.data` module for both the train and the test set."
   ]
  },
  {
   "cell_type": "code",
   "execution_count": 2,
   "metadata": {
    "colab": {
     "base_uri": "https://localhost:8080/"
    },
    "id": "FJqsgMvWAnsA",
    "outputId": "af217bed-2d9a-4f9c-d6f6-12f269b0bedb"
   },
   "outputs": [
    {
     "name": "stdout",
     "output_type": "stream",
     "text": [
      "Downloading http://yann.lecun.com/exdb/mnist/train-images-idx3-ubyte.gz\n",
      "Downloading http://yann.lecun.com/exdb/mnist/train-images-idx3-ubyte.gz to ./data/MNIST/raw/train-images-idx3-ubyte.gz\n"
     ]
    },
    {
     "name": "stderr",
     "output_type": "stream",
     "text": [
      "100%|██████████| 9912422/9912422 [00:00<00:00, 232279519.77it/s]"
     ]
    },
    {
     "name": "stdout",
     "output_type": "stream",
     "text": [
      "Extracting ./data/MNIST/raw/train-images-idx3-ubyte.gz to ./data/MNIST/raw\n"
     ]
    },
    {
     "name": "stderr",
     "output_type": "stream",
     "text": [
      "\n"
     ]
    },
    {
     "name": "stdout",
     "output_type": "stream",
     "text": [
      "\n",
      "Downloading http://yann.lecun.com/exdb/mnist/train-labels-idx1-ubyte.gz\n",
      "Downloading http://yann.lecun.com/exdb/mnist/train-labels-idx1-ubyte.gz to ./data/MNIST/raw/train-labels-idx1-ubyte.gz\n"
     ]
    },
    {
     "name": "stderr",
     "output_type": "stream",
     "text": [
      "100%|██████████| 28881/28881 [00:00<00:00, 40418983.59it/s]\n"
     ]
    },
    {
     "name": "stdout",
     "output_type": "stream",
     "text": [
      "Extracting ./data/MNIST/raw/train-labels-idx1-ubyte.gz to ./data/MNIST/raw\n",
      "\n",
      "Downloading http://yann.lecun.com/exdb/mnist/t10k-images-idx3-ubyte.gz\n",
      "Downloading http://yann.lecun.com/exdb/mnist/t10k-images-idx3-ubyte.gz to ./data/MNIST/raw/t10k-images-idx3-ubyte.gz\n"
     ]
    },
    {
     "name": "stderr",
     "output_type": "stream",
     "text": [
      "100%|██████████| 1648877/1648877 [00:00<00:00, 63739759.60it/s]"
     ]
    },
    {
     "name": "stdout",
     "output_type": "stream",
     "text": [
      "Extracting ./data/MNIST/raw/t10k-images-idx3-ubyte.gz to ./data/MNIST/raw\n",
      "\n",
      "Downloading http://yann.lecun.com/exdb/mnist/t10k-labels-idx1-ubyte.gz\n"
     ]
    },
    {
     "name": "stderr",
     "output_type": "stream",
     "text": [
      "\n"
     ]
    },
    {
     "name": "stdout",
     "output_type": "stream",
     "text": [
      "Downloading http://yann.lecun.com/exdb/mnist/t10k-labels-idx1-ubyte.gz to ./data/MNIST/raw/t10k-labels-idx1-ubyte.gz\n"
     ]
    },
    {
     "name": "stderr",
     "output_type": "stream",
     "text": [
      "100%|██████████| 4542/4542 [00:00<00:00, 2965062.84it/s]\n"
     ]
    },
    {
     "name": "stdout",
     "output_type": "stream",
     "text": [
      "Extracting ./data/MNIST/raw/t10k-labels-idx1-ubyte.gz to ./data/MNIST/raw\n",
      "\n"
     ]
    }
   ],
   "source": [
    "# Define transforms\n",
    "## YOUR CODE HERE ##\n",
    "data_dir = './data' \n",
    "transform = transforms.Compose([transforms.ToTensor(), transforms.Normalize((0.5,), (0.5,)),])\n",
    "\n",
    "# Create training set and define training dataloader\n",
    "## YOUR CODE HERE ##\n",
    "trainset = torchvision.datasets.MNIST(root=data_dir, train=True, download=True, transform=transform)\n",
    "train_loader = torch.utils.data.DataLoader(trainset, batch_size=5, shuffle=True, num_workers=2)\n",
    "\n",
    "# Create test set and define test dataloader\n",
    "## YOUR CODE HERE ##\n",
    "testset = torchvision.datasets.MNIST(root=data_dir, train=False, download=True, transform=transform)\n",
    "test_loader = torch.utils.data.DataLoader(testset, batch_size=5, shuffle=False, num_workers=2)"
   ]
  },
  {
   "cell_type": "markdown",
   "metadata": {
    "id": "F4opn-iGAnsA"
   },
   "source": [
    "## Justify your preprocessing\n",
    "\n",
    "In your own words, why did you choose the transforms you chose? If you didn't use any preprocessing steps, why not?"
   ]
  },
  {
   "cell_type": "markdown",
   "metadata": {
    "id": "B5fTpotSAnsA"
   },
   "source": [
    "- `transforms.ToTensor()`:\n",
    "This transformation converts the image into a format that the computer can understand and work with. Additionally, it scales the pixel values of the image so that they are between 0 and 1. This scaling is done to ensure that the model can process the image effectively.\n",
    "\n",
    "- `transforms.Normalize((0.5,), (0.5,))`: This transformation adjusts the values of the numbers in the tensor. The normalization makes sure that the average color is at 0.5 and that the colors are spread out in a way that makes them easier for a neural network to work with."
   ]
  },
  {
   "cell_type": "markdown",
   "metadata": {
    "id": "US7fG8HUAnsB"
   },
   "source": [
    "## Explore the Dataset\n",
    "Using matplotlib, numpy, and torch, explore the dimensions of your data.\n",
    "\n",
    "You can view images using the `show5` function defined below – it takes a data loader as an argument.\n",
    "Remember that normalized images will look really weird to you! You may want to try changing your transforms to view images.\n",
    "Typically using no transforms other than `toTensor()` works well for viewing – but not as well for training your network.\n",
    "If `show5` doesn't work, go back and check your code for creating your data loaders and your training/test sets."
   ]
  },
  {
   "cell_type": "code",
   "execution_count": 3,
   "metadata": {
    "colab": {
     "base_uri": "https://localhost:8080/"
    },
    "id": "E7ffcIoNWB1t",
    "outputId": "52a4d25d-3e73-4f2d-c458-8c15166a6a69"
   },
   "outputs": [
    {
     "name": "stdout",
     "output_type": "stream",
     "text": [
      "Training dataset size: 60000\n",
      "Training dataset shape: torch.Size([1, 28, 28])\n"
     ]
    }
   ],
   "source": [
    "# The size and shape of the training dataset\n",
    "train_size = len(trainset)\n",
    "train_shape = trainset[0][0].shape\n",
    "\n",
    "print(\"Training dataset size:\", train_size)\n",
    "print(\"Training dataset shape:\", train_shape)"
   ]
  },
  {
   "cell_type": "code",
   "execution_count": 4,
   "metadata": {
    "colab": {
     "base_uri": "https://localhost:8080/"
    },
    "id": "sNRpJZH6WlTF",
    "outputId": "d1a746e8-d584-43a0-a3df-17afaa4132a8"
   },
   "outputs": [
    {
     "name": "stdout",
     "output_type": "stream",
     "text": [
      "Test dataset size: 10000\n",
      "Test dataset shape: torch.Size([1, 28, 28])\n"
     ]
    }
   ],
   "source": [
    "# The size and shape of the test dataset\n",
    "test_size = len(testset)\n",
    "test_shape = testset[0][0].shape\n",
    "\n",
    "print(\"Test dataset size:\", test_size)\n",
    "print(\"Test dataset shape:\", test_shape)"
   ]
  },
  {
   "cell_type": "code",
   "execution_count": 5,
   "metadata": {
    "id": "WQCY5fvEAnsB"
   },
   "outputs": [],
   "source": [
    "## This cell contains a function for showing 5 images from a dataloader – DO NOT CHANGE THE CONTENTS! ##\n",
    "def show5(img_loader):\n",
    "    dataiter = iter(img_loader)\n",
    "    \n",
    "    batch = next(dataiter)\n",
    "    labels = batch[1][0:5]\n",
    "    images = batch[0][0:5]\n",
    "    for i in range(5):\n",
    "        print(int(labels[i].detach()))\n",
    "    \n",
    "        image = images[i].numpy()\n",
    "        plt.imshow(image.T.squeeze().T)\n",
    "        plt.show()"
   ]
  },
  {
   "cell_type": "code",
   "execution_count": 6,
   "metadata": {
    "colab": {
     "base_uri": "https://localhost:8080/",
     "height": 1000
    },
    "id": "rnCCNZUOAnsC",
    "outputId": "9048ae3c-35e4-4619-ca04-3fb3ae860707"
   },
   "outputs": [
    {
     "name": "stdout",
     "output_type": "stream",
     "text": [
      "5\n"
     ]
    },
    {
     "data": {
      "image/png": "[encoded data removed]",
      "text/plain": [
       "<Figure size 640x480 with 1 Axes>"
      ]
     },
     "metadata": {},
     "output_type": "display_data"
    },
    {
     "name": "stdout",
     "output_type": "stream",
     "text": [
      "5\n"
     ]
    },
    {
     "data": {
      "image/png": "[encoded data removed]",
      "text/plain": [
       "<Figure size 640x480 with 1 Axes>"
      ]
     },
     "metadata": {},
     "output_type": "display_data"
    },
    {
     "name": "stdout",
     "output_type": "stream",
     "text": [
      "5\n"
     ]
    },
    {
     "data": {
      "image/png": "[encoded data removed]",
      "text/plain": [
       "<Figure size 640x480 with 1 Axes>"
      ]
     },
     "metadata": {},
     "output_type": "display_data"
    },
    {
     "name": "stdout",
     "output_type": "stream",
     "text": [
      "9\n"
     ]
    },
    {
     "data": {
      "image/png": "[encoded data removed]",
      "text/plain": [
       "<Figure size 640x480 with 1 Axes>"
      ]
     },
     "metadata": {},
     "output_type": "display_data"
    },
    {
     "name": "stdout",
     "output_type": "stream",
     "text": [
      "3\n"
     ]
    },
    {
     "data": {
      "image/png": "[encoded data removed]",
      "text/plain": [
       "<Figure size 640x480 with 1 Axes>"
      ]
     },
     "metadata": {},
     "output_type": "display_data"
    }
   ],
   "source": [
    "# Explore data\n",
    "## YOUR CODE HERE ##\n",
    "show5(train_loader)"
   ]
  },
  {
   "cell_type": "markdown",
   "metadata": {
    "id": "ePlYKcaMAnsC"
   },
   "source": [
    "## Build your Neural Network\n",
    "Using the layers in `torch.nn` (which has been imported as `nn`) and the `torch.nn.functional` module (imported as `F`), construct a neural network based on the parameters of the dataset.\n",
    "Use any architecture you like. \n",
    "\n",
    "*Note*: If you did not flatten your tensors in your transforms or as part of your preprocessing and you are using only `Linear` layers, make sure to use the `Flatten` layer in your network!"
   ]
  },
  {
   "cell_type": "code",
   "execution_count": 7,
   "metadata": {
    "colab": {
     "base_uri": "https://localhost:8080/"
    },
    "id": "Le8rS_nmAnsC",
    "outputId": "394295fb-285d-4945-f835-12e700a5515c"
   },
   "outputs": [
    {
     "name": "stdout",
     "output_type": "stream",
     "text": [
      "MNISTModel(\n",
      "  (fc1): Linear(in_features=784, out_features=512, bias=True)\n",
      "  (fc2): Linear(in_features=512, out_features=512, bias=True)\n",
      "  (fc3): Linear(in_features=512, out_features=10, bias=True)\n",
      "  (dropout): Dropout(p=0.2, inplace=False)\n",
      ")\n"
     ]
    }
   ],
   "source": [
    "## YOUR CODE HERE ##\n",
    "class MNISTModel(nn.Module):\n",
    "    def __init__(self):\n",
    "        super(MNISTModel, self).__init__()\n",
    "        hidden_1 = 512\n",
    "        hidden_2 = 512\n",
    "        self.fc1 = nn.Linear(28 * 28, hidden_1)  #input: 784\n",
    "        self.fc2 = nn.Linear(hidden_1, hidden_2)\n",
    "        self.fc3 = nn.Linear(hidden_2, 10)\n",
    "        self.dropout = nn.Dropout(0.2)\n",
    "\n",
    "    def forward(self, x):\n",
    "        x = x.view(-1, 28 * 28)  #flatten image input\n",
    "        x = F.relu(self.fc1(x))\n",
    "        x = self.dropout(x)\n",
    "        x = F.relu(self.fc2(x))\n",
    "        x = self.dropout(x)\n",
    "        x = self.fc3(x)\n",
    "        return x\n",
    "\n",
    "# initialize the NN\n",
    "model = MNISTModel()\n",
    "print(model)"
   ]
  },
  {
   "cell_type": "markdown",
   "metadata": {
    "id": "p-KO3YxmYKTa"
   },
   "source": [
    "**Initialization**\n",
    "- The model has 3 fully connected layers.\n",
    "    - The first layer takes the input of size 28x28(784) and produces an output of size `hidden_1`.\n",
    "    - The second layer takes the output of the previous layer as input and produces an output of size `hidden_2`.\n",
    "    - The final layer takes the output of the previous layer as input and produces an output of size 10, which corresponds to the 10 classes (digits 0-9) in the MNIST dataset. \n",
    "- A dropout layer is added with a dropout probability of 0.2 to prevent overfitting. \n",
    "\n",
    "\n",
    "**Forward Pass**\n",
    "- The input is reshaped to a flattened form. \n",
    "- The flattened input is passed throught the first fully connected layer, followed by a ReLU activation function. \n",
    "- The output of the first hidden layer is then passed through the dropout layer to randomly zero out some of the activations during training.\n",
    "- The resulting tensor is passed through the second fully connected layer and again through a ReLU activation and dropout layer.\n",
    "- Finally, the output is passed through the last fully connected layer to produce the logits for each class.\n",
    "- The logits represent the raw predicted scores for each class, without applying a softmax function. \n"
   ]
  },
  {
   "cell_type": "markdown",
   "metadata": {
    "id": "3_C8BDyzAnsC"
   },
   "source": [
    "Specify a loss function and an optimizer, and instantiate the model.\n",
    "\n",
    "If you use a less common loss function, please note why you chose that loss function in a comment."
   ]
  },
  {
   "cell_type": "code",
   "execution_count": 8,
   "metadata": {
    "id": "083indMOAnsC"
   },
   "outputs": [],
   "source": [
    "## YOUR CODE HERE ##\n",
    "model = MNISTModel()\n",
    "device = 'cuda' if torch.cuda.is_available() else 'cpu'\n",
    "model.to(device)\n",
    "\n",
    "loss_fn = nn.CrossEntropyLoss()\n",
    "optimizer = optim.Adam(model.parameters(), lr=0.001)"
   ]
  },
  {
   "cell_type": "markdown",
   "metadata": {
    "id": "soN6zA4xbW2s"
   },
   "source": [
    "- `loss_fn = nn.CrossEntropyLoss()`\n",
    "    - The loss function is commonly used for multi-class classification. \n",
    "    - It combines the softmax function and the negative log-likelihood loss into a single function.\n",
    "\n",
    "- `optimizer = optim.Adam(model.parameters(), lr=0.001)`\n",
    "    - We used the Adam optimizer.\n",
    "    - `model.parameters()` provides the parameters (weights and biases) of the model that need to be optimized. \n",
    "    - The `lr` parameter is the learning rate, which determines the step size at each iteration during optimization. "
   ]
  },
  {
   "cell_type": "markdown",
   "metadata": {
    "id": "gz-wpGotAnsD"
   },
   "source": [
    "## Running your Neural Network\n",
    "Use whatever method you like to train your neural network, and ensure you record the average loss at each epoch. \n",
    "Don't forget to use `torch.device()` and the `.to()` method for both your model and your data if you are using GPU!\n",
    "\n",
    "If you want to print your loss **during** each epoch, you can use the `enumerate` function and print the loss after a set number of batches. 250 batches works well for most people!"
   ]
  },
  {
   "cell_type": "code",
   "execution_count": 9,
   "metadata": {
    "colab": {
     "base_uri": "https://localhost:8080/"
    },
    "id": "_QQQV8JTAnsD",
    "outputId": "0e5f1e9d-fa80-4eb9-e4f9-5912e006bfe3"
   },
   "outputs": [
    {
     "name": "stdout",
     "output_type": "stream",
     "text": [
      "epoch 1 - batch 2500 | loss: 0.62\n",
      "epoch 1 - batch 5000 | loss: 0.44\n",
      "epoch 1 - batch 7500 | loss: 0.38\n",
      "epoch 1 - batch 10000 | loss: 0.37\n",
      "epoch 2 - batch 2500 | loss: 0.33\n",
      "epoch 2 - batch 5000 | loss: 0.33\n",
      "epoch 2 - batch 7500 | loss: 0.32\n",
      "epoch 2 - batch 10000 | loss: 0.32\n",
      "epoch 3 - batch 2500 | loss: 0.29\n",
      "epoch 3 - batch 5000 | loss: 0.30\n",
      "epoch 3 - batch 7500 | loss: 0.32\n",
      "epoch 3 - batch 10000 | loss: 0.28\n",
      "epoch 4 - batch 2500 | loss: 0.30\n",
      "epoch 4 - batch 5000 | loss: 0.29\n",
      "epoch 4 - batch 7500 | loss: 0.30\n",
      "epoch 4 - batch 10000 | loss: 0.28\n",
      "epoch 5 - batch 2500 | loss: 0.29\n",
      "epoch 5 - batch 5000 | loss: 0.28\n",
      "epoch 5 - batch 7500 | loss: 0.31\n",
      "epoch 5 - batch 10000 | loss: 0.30\n",
      "epoch 6 - batch 2500 | loss: 0.28\n",
      "epoch 6 - batch 5000 | loss: 0.28\n",
      "epoch 6 - batch 7500 | loss: 0.28\n",
      "epoch 6 - batch 10000 | loss: 0.28\n",
      "epoch 7 - batch 2500 | loss: 0.28\n",
      "epoch 7 - batch 5000 | loss: 0.28\n",
      "epoch 7 - batch 7500 | loss: 0.28\n",
      "epoch 7 - batch 10000 | loss: 0.28\n",
      "epoch 8 - batch 2500 | loss: 0.27\n",
      "epoch 8 - batch 5000 | loss: 0.28\n",
      "epoch 8 - batch 7500 | loss: 0.28\n",
      "epoch 8 - batch 10000 | loss: 0.30\n",
      "epoch 9 - batch 2500 | loss: 0.29\n",
      "epoch 9 - batch 5000 | loss: 0.27\n",
      "epoch 9 - batch 7500 | loss: 0.28\n",
      "epoch 9 - batch 10000 | loss: 0.27\n",
      "epoch 10 - batch 2500 | loss: 0.28\n",
      "epoch 10 - batch 5000 | loss: 0.27\n",
      "epoch 10 - batch 7500 | loss: 0.27\n",
      "epoch 10 - batch 10000 | loss: 0.29\n",
      "epoch 11 - batch 2500 | loss: 0.26\n",
      "epoch 11 - batch 5000 | loss: 0.28\n",
      "epoch 11 - batch 7500 | loss: 0.27\n",
      "epoch 11 - batch 10000 | loss: 0.30\n",
      "epoch 12 - batch 2500 | loss: 0.28\n",
      "epoch 12 - batch 5000 | loss: 0.28\n",
      "epoch 12 - batch 7500 | loss: 0.27\n",
      "epoch 12 - batch 10000 | loss: 0.27\n",
      "epoch 13 - batch 2500 | loss: 0.27\n",
      "epoch 13 - batch 5000 | loss: 0.27\n",
      "epoch 13 - batch 7500 | loss: 0.28\n",
      "epoch 13 - batch 10000 | loss: 0.26\n",
      "epoch 14 - batch 2500 | loss: 0.26\n",
      "epoch 14 - batch 5000 | loss: 0.28\n",
      "epoch 14 - batch 7500 | loss: 0.26\n",
      "epoch 14 - batch 10000 | loss: 0.29\n",
      "epoch 15 - batch 2500 | loss: 0.28\n",
      "epoch 15 - batch 5000 | loss: 0.27\n",
      "epoch 15 - batch 7500 | loss: 0.29\n",
      "epoch 15 - batch 10000 | loss: 0.26\n",
      "epoch 16 - batch 2500 | loss: 0.25\n",
      "epoch 16 - batch 5000 | loss: 0.28\n",
      "epoch 16 - batch 7500 | loss: 0.27\n",
      "epoch 16 - batch 10000 | loss: 0.28\n",
      "epoch 17 - batch 2500 | loss: 0.24\n",
      "epoch 17 - batch 5000 | loss: 0.27\n",
      "epoch 17 - batch 7500 | loss: 0.27\n",
      "epoch 17 - batch 10000 | loss: 0.27\n",
      "epoch 18 - batch 2500 | loss: 0.28\n",
      "epoch 18 - batch 5000 | loss: 0.26\n",
      "epoch 18 - batch 7500 | loss: 0.27\n",
      "epoch 18 - batch 10000 | loss: 0.26\n",
      "epoch 19 - batch 2500 | loss: 0.28\n",
      "epoch 19 - batch 5000 | loss: 0.26\n",
      "epoch 19 - batch 7500 | loss: 0.24\n",
      "epoch 19 - batch 10000 | loss: 0.27\n",
      "epoch 20 - batch 2500 | loss: 0.26\n",
      "epoch 20 - batch 5000 | loss: 0.28\n",
      "epoch 20 - batch 7500 | loss: 0.28\n",
      "epoch 20 - batch 10000 | loss: 0.29\n",
      "\n",
      "**** Finished training the model ****\n"
     ]
    }
   ],
   "source": [
    "## YOUR CODE HERE ##\n",
    "epoch_losses = [] \n",
    "model.train()\n",
    "\n",
    "for epoch in range(20):\n",
    "    current_loss = 0.0\n",
    "    saved_loss = 0.0\n",
    "    \n",
    "    for i_batch, data in enumerate(train_loader, 0):\n",
    "        # get inputs and labels\n",
    "        inputs, labels = data\n",
    "        # convert to appropriate device\n",
    "        inputs, labels = inputs.to(device), labels.to(device)\n",
    "        \n",
    "        # forward, backward, and then weight update\n",
    "        y_pred = model(inputs)\n",
    "        loss = loss_fn(y_pred, labels)\n",
    "        optimizer.zero_grad()\n",
    "        loss.backward()\n",
    "        optimizer.step()\n",
    "        \n",
    "        # track the loss\n",
    "        current_loss += loss.item()\n",
    "        if i_batch % 2500 == 2499:  # print every 2500 mini-batches\n",
    "            print(f'epoch {epoch+1} - batch {i_batch+1} | loss: {current_loss/2500:.2f}')\n",
    "            saved_loss = current_loss\n",
    "            current_loss = 0.0    \n",
    "    \n",
    "    epoch_losses.append(saved_loss/10000)\n",
    "    \n",
    "print('\\n**** Finished training the model ****')  # print when finished training"
   ]
  },
  {
   "cell_type": "markdown",
   "metadata": {
    "id": "Na5RcrhEAnsD"
   },
   "source": [
    "Plot the training loss (and validation loss/accuracy, if recorded)."
   ]
  },
  {
   "cell_type": "code",
   "execution_count": 10,
   "metadata": {
    "colab": {
     "base_uri": "https://localhost:8080/",
     "height": 472
    },
    "id": "O7DcAALVAnsD",
    "outputId": "30c75b87-e62a-4935-a60d-268f42dc5819"
   },
   "outputs": [
    {
     "data": {
      "image/png": "[encoded data removed]",
      "text/plain": [
       "<Figure size 640x480 with 1 Axes>"
      ]
     },
     "metadata": {},
     "output_type": "display_data"
    }
   ],
   "source": [
    "## YOUR CODE HERE ##\n",
    "epochs = range(1,21)\n",
    "\n",
    "plt.plot(epochs, epoch_losses, 'b', label='Training Loss')\n",
    "plt.title('Training Loss')\n",
    "plt.xlabel('Epochs')\n",
    "plt.ylabel('Loss')\n",
    "plt.legend()\n",
    "plt.show()"
   ]
  },
  {
   "cell_type": "markdown",
   "metadata": {
    "id": "Ru4ivcUMAnsD"
   },
   "source": [
    "## Testing your model\n",
    "Using the previously created `DataLoader` for the test set, compute the percentage of correct predictions using the highest probability prediction. \n",
    "\n",
    "If your accuracy is over 90%, great work, but see if you can push a bit further! \n",
    "If your accuracy is under 90%, you'll need to make improvements.\n",
    "Go back and check your model architecture, loss function, and optimizer to make sure they're appropriate for an image classification task."
   ]
  },
  {
   "cell_type": "code",
   "execution_count": 11,
   "metadata": {
    "colab": {
     "base_uri": "https://localhost:8080/"
    },
    "id": "b-y8YAREAnsD",
    "outputId": "9712ad80-ae3f-4cb2-91fe-b9285a3d0582"
   },
   "outputs": [
    {
     "name": "stdout",
     "output_type": "stream",
     "text": [
      "Accuracy: 95.99 %\n"
     ]
    }
   ],
   "source": [
    "## YOUR CODE HERE ##\n",
    "total, correct = 0, 0\n",
    "\n",
    "model.eval()\n",
    "\n",
    "with torch.no_grad():\n",
    "    for data in test_loader:\n",
    "        images, labels = data\n",
    "        images, labels = images.to(device), labels.to(device)\n",
    "        outputs = model(images)\n",
    "        _, predicted = torch.max(outputs.data, 1)\n",
    "        total += labels.size(0)\n",
    "        correct += (predicted == labels).sum().item()\n",
    "\n",
    "print(f'Accuracy: {(100 * correct / total):.2f} %')"
   ]
  },
  {
   "cell_type": "markdown",
   "metadata": {
    "id": "FqP3A4DPAnsE"
   },
   "source": [
    "## Improving your model\n",
    "\n",
    "Once your model is done training, try tweaking your hyperparameters and training again below to improve your accuracy on the test set!"
   ]
  },
  {
   "cell_type": "code",
   "execution_count": 12,
   "metadata": {
    "id": "enPGrB9y1pKU"
   },
   "outputs": [],
   "source": [
    "class MNISTModel_2(nn.Module):\n",
    "    def __init__(self):\n",
    "        super(MNISTModel_2, self).__init__()\n",
    "        hidden_1 = 1024\n",
    "        hidden_2 = 1024\n",
    "        self.fc1 = nn.Linear(28 * 28, hidden_1)  #input: 784\n",
    "        self.fc2 = nn.Linear(hidden_1, hidden_2)\n",
    "        self.fc3 = nn.Linear(hidden_2, 10)\n",
    "        self.dropout = nn.Dropout(0.2)\n",
    "\n",
    "    def forward(self, x):\n",
    "        x = x.view(-1, 28 * 28)  #flatten image input\n",
    "        x = F.relu(self.fc1(x))\n",
    "        x = self.dropout(x)\n",
    "        x = F.relu(self.fc2(x))\n",
    "        x = self.dropout(x)\n",
    "        x = self.fc3(x)\n",
    "        return x"
   ]
  },
  {
   "cell_type": "code",
   "execution_count": 13,
   "metadata": {
    "id": "nc-asCpAOQ3L"
   },
   "outputs": [],
   "source": [
    "model_2 = MNISTModel_2()\n",
    "device = 'cuda' if torch.cuda.is_available() else 'cpu'\n",
    "model_2.to(device)\n",
    "\n",
    "loss_fn_2 = nn.CrossEntropyLoss() \n",
    "optimizer_2 = optim.Adam(model_2.parameters(), lr=0.0001)"
   ]
  },
  {
   "cell_type": "code",
   "execution_count": 14,
   "metadata": {
    "colab": {
     "base_uri": "https://localhost:8080/"
    },
    "id": "g7wDRzcWOYqh",
    "outputId": "b191f30d-27f9-4e6c-d1a6-faf5946b0089"
   },
   "outputs": [
    {
     "name": "stdout",
     "output_type": "stream",
     "text": [
      "epoch 1 - batch 2500 | loss: 0.56\n",
      "epoch 1 - batch 5000 | loss: 0.30\n",
      "epoch 1 - batch 7500 | loss: 0.23\n",
      "epoch 1 - batch 10000 | loss: 0.19\n",
      "epoch 2 - batch 2500 | loss: 0.16\n",
      "epoch 2 - batch 5000 | loss: 0.14\n",
      "epoch 2 - batch 7500 | loss: 0.14\n",
      "epoch 2 - batch 10000 | loss: 0.14\n",
      "epoch 3 - batch 2500 | loss: 0.11\n",
      "epoch 3 - batch 5000 | loss: 0.11\n",
      "epoch 3 - batch 7500 | loss: 0.11\n",
      "epoch 3 - batch 10000 | loss: 0.11\n",
      "epoch 4 - batch 2500 | loss: 0.09\n",
      "epoch 4 - batch 5000 | loss: 0.10\n",
      "epoch 4 - batch 7500 | loss: 0.10\n",
      "epoch 4 - batch 10000 | loss: 0.10\n",
      "epoch 5 - batch 2500 | loss: 0.08\n",
      "epoch 5 - batch 5000 | loss: 0.08\n",
      "epoch 5 - batch 7500 | loss: 0.08\n",
      "epoch 5 - batch 10000 | loss: 0.08\n",
      "epoch 6 - batch 2500 | loss: 0.07\n",
      "epoch 6 - batch 5000 | loss: 0.07\n",
      "epoch 6 - batch 7500 | loss: 0.07\n",
      "epoch 6 - batch 10000 | loss: 0.08\n",
      "epoch 7 - batch 2500 | loss: 0.06\n",
      "epoch 7 - batch 5000 | loss: 0.07\n",
      "epoch 7 - batch 7500 | loss: 0.06\n",
      "epoch 7 - batch 10000 | loss: 0.06\n",
      "epoch 8 - batch 2500 | loss: 0.06\n",
      "epoch 8 - batch 5000 | loss: 0.06\n",
      "epoch 8 - batch 7500 | loss: 0.05\n",
      "epoch 8 - batch 10000 | loss: 0.07\n",
      "epoch 9 - batch 2500 | loss: 0.05\n",
      "epoch 9 - batch 5000 | loss: 0.05\n",
      "epoch 9 - batch 7500 | loss: 0.06\n",
      "epoch 9 - batch 10000 | loss: 0.06\n",
      "epoch 10 - batch 2500 | loss: 0.05\n",
      "epoch 10 - batch 5000 | loss: 0.06\n",
      "epoch 10 - batch 7500 | loss: 0.05\n",
      "epoch 10 - batch 10000 | loss: 0.05\n",
      "epoch 11 - batch 2500 | loss: 0.05\n",
      "epoch 11 - batch 5000 | loss: 0.04\n",
      "epoch 11 - batch 7500 | loss: 0.04\n",
      "epoch 11 - batch 10000 | loss: 0.05\n",
      "epoch 12 - batch 2500 | loss: 0.04\n",
      "epoch 12 - batch 5000 | loss: 0.05\n",
      "epoch 12 - batch 7500 | loss: 0.05\n",
      "epoch 12 - batch 10000 | loss: 0.05\n",
      "epoch 13 - batch 2500 | loss: 0.04\n",
      "epoch 13 - batch 5000 | loss: 0.05\n",
      "epoch 13 - batch 7500 | loss: 0.04\n",
      "epoch 13 - batch 10000 | loss: 0.04\n",
      "epoch 14 - batch 2500 | loss: 0.04\n",
      "epoch 14 - batch 5000 | loss: 0.04\n",
      "epoch 14 - batch 7500 | loss: 0.05\n",
      "epoch 14 - batch 10000 | loss: 0.04\n",
      "epoch 15 - batch 2500 | loss: 0.04\n",
      "epoch 15 - batch 5000 | loss: 0.04\n",
      "epoch 15 - batch 7500 | loss: 0.04\n",
      "epoch 15 - batch 10000 | loss: 0.03\n",
      "epoch 16 - batch 2500 | loss: 0.03\n",
      "epoch 16 - batch 5000 | loss: 0.04\n",
      "epoch 16 - batch 7500 | loss: 0.04\n",
      "epoch 16 - batch 10000 | loss: 0.04\n",
      "epoch 17 - batch 2500 | loss: 0.04\n",
      "epoch 17 - batch 5000 | loss: 0.03\n",
      "epoch 17 - batch 7500 | loss: 0.03\n",
      "epoch 17 - batch 10000 | loss: 0.04\n",
      "epoch 18 - batch 2500 | loss: 0.03\n",
      "epoch 18 - batch 5000 | loss: 0.03\n",
      "epoch 18 - batch 7500 | loss: 0.04\n",
      "epoch 18 - batch 10000 | loss: 0.04\n",
      "epoch 19 - batch 2500 | loss: 0.03\n",
      "epoch 19 - batch 5000 | loss: 0.04\n",
      "epoch 19 - batch 7500 | loss: 0.04\n",
      "epoch 19 - batch 10000 | loss: 0.03\n",
      "epoch 20 - batch 2500 | loss: 0.03\n",
      "epoch 20 - batch 5000 | loss: 0.03\n",
      "epoch 20 - batch 7500 | loss: 0.03\n",
      "epoch 20 - batch 10000 | loss: 0.04\n",
      "epoch 21 - batch 2500 | loss: 0.03\n",
      "epoch 21 - batch 5000 | loss: 0.03\n",
      "epoch 21 - batch 7500 | loss: 0.04\n",
      "epoch 21 - batch 10000 | loss: 0.03\n",
      "epoch 22 - batch 2500 | loss: 0.03\n",
      "epoch 22 - batch 5000 | loss: 0.03\n",
      "epoch 22 - batch 7500 | loss: 0.03\n",
      "epoch 22 - batch 10000 | loss: 0.04\n",
      "epoch 23 - batch 2500 | loss: 0.03\n",
      "epoch 23 - batch 5000 | loss: 0.03\n",
      "epoch 23 - batch 7500 | loss: 0.03\n",
      "epoch 23 - batch 10000 | loss: 0.03\n",
      "epoch 24 - batch 2500 | loss: 0.03\n",
      "epoch 24 - batch 5000 | loss: 0.03\n",
      "epoch 24 - batch 7500 | loss: 0.03\n",
      "epoch 24 - batch 10000 | loss: 0.03\n",
      "epoch 25 - batch 2500 | loss: 0.03\n",
      "epoch 25 - batch 5000 | loss: 0.03\n",
      "epoch 25 - batch 7500 | loss: 0.03\n",
      "epoch 25 - batch 10000 | loss: 0.03\n",
      "epoch 26 - batch 2500 | loss: 0.03\n",
      "epoch 26 - batch 5000 | loss: 0.03\n",
      "epoch 26 - batch 7500 | loss: 0.04\n",
      "epoch 26 - batch 10000 | loss: 0.03\n",
      "epoch 27 - batch 2500 | loss: 0.03\n",
      "epoch 27 - batch 5000 | loss: 0.03\n",
      "epoch 27 - batch 7500 | loss: 0.02\n",
      "epoch 27 - batch 10000 | loss: 0.03\n",
      "epoch 28 - batch 2500 | loss: 0.03\n",
      "epoch 28 - batch 5000 | loss: 0.03\n",
      "epoch 28 - batch 7500 | loss: 0.03\n",
      "epoch 28 - batch 10000 | loss: 0.03\n",
      "epoch 29 - batch 2500 | loss: 0.03\n",
      "epoch 29 - batch 5000 | loss: 0.03\n",
      "epoch 29 - batch 7500 | loss: 0.03\n",
      "epoch 29 - batch 10000 | loss: 0.03\n",
      "epoch 30 - batch 2500 | loss: 0.02\n",
      "epoch 30 - batch 5000 | loss: 0.03\n",
      "epoch 30 - batch 7500 | loss: 0.02\n",
      "epoch 30 - batch 10000 | loss: 0.03\n",
      "\n",
      "**** Finished training the model ****\n"
     ]
    }
   ],
   "source": [
    "epoch_losses_2 = [] \n",
    "model_2.train()\n",
    "\n",
    "for epoch in range(30):\n",
    "    current_loss_2 = 0.0\n",
    "    saved_loss_2 = 0.0\n",
    "    \n",
    "    for i_batch, data in enumerate(train_loader, 0):\n",
    "        # get inputs and labels\n",
    "        inputs, labels = data\n",
    "        # convert to appropriate device\n",
    "        inputs, labels = inputs.to(device), labels.to(device)\n",
    "        \n",
    "        # forward, backward, and then weight update\n",
    "        y_pred = model_2(inputs)\n",
    "        loss_2 = loss_fn_2(y_pred, labels)\n",
    "        optimizer_2.zero_grad()\n",
    "        loss_2.backward()\n",
    "        optimizer_2.step()\n",
    "        \n",
    "        # track the loss\n",
    "        current_loss_2 += loss_2.item()\n",
    "        if i_batch % 2500 == 2499:  # print every 2500 mini-batches\n",
    "            print(f'epoch {epoch+1} - batch {i_batch+1} | loss: {current_loss_2/2500:.2f}')\n",
    "            saved_loss_2 = current_loss_2\n",
    "            current_loss_2 = 0.0    \n",
    "    \n",
    "    epoch_losses_2.append(saved_loss_2/10000)\n",
    "    \n",
    "print('\\n**** Finished training the model ****')  # print when finished training"
   ]
  },
  {
   "cell_type": "code",
   "execution_count": 15,
   "metadata": {
    "colab": {
     "base_uri": "https://localhost:8080/",
     "height": 472
    },
    "id": "FyBP0SDIOqOQ",
    "outputId": "6886e2f0-098b-488f-cac8-fd7945227898"
   },
   "outputs": [
    {
     "data": {
      "image/png": "[encoded data removed]",
      "text/plain": [
       "<Figure size 640x480 with 1 Axes>"
      ]
     },
     "metadata": {},
     "output_type": "display_data"
    }
   ],
   "source": [
    "epochs_2 = range(1,31)\n",
    "\n",
    "plt.plot(epochs_2, epoch_losses_2, 'b', label='Training Loss')\n",
    "plt.title('Training Loss')\n",
    "plt.xlabel('Epochs')\n",
    "plt.ylabel('Loss')\n",
    "plt.legend()\n",
    "plt.show()"
   ]
  },
  {
   "cell_type": "code",
   "execution_count": 16,
   "metadata": {
    "colab": {
     "base_uri": "https://localhost:8080/"
    },
    "id": "8e4cNhIjObIA",
    "outputId": "3f5f8ce2-b83e-4970-e5e5-5b28542d69b5"
   },
   "outputs": [
    {
     "name": "stdout",
     "output_type": "stream",
     "text": [
      "Accuracy: 98.26 %\n"
     ]
    }
   ],
   "source": [
    "#Testing the second model\n",
    "total_2, correct_2 = 0, 0\n",
    "\n",
    "model_2.eval()\n",
    "\n",
    "with torch.no_grad():\n",
    "    for data in test_loader:\n",
    "        images, labels = data\n",
    "        images, labels = images.to(device), labels.to(device)\n",
    "        outputs = model_2(images)\n",
    "        _, predicted = torch.max(outputs.data, 1)\n",
    "        total_2 += labels.size(0)\n",
    "        correct_2 += (predicted == labels).sum().item()\n",
    "\n",
    "print(f'Accuracy: {(100 * correct_2 / total):.2f} %')"
   ]
  },
  {
   "cell_type": "markdown",
   "metadata": {
    "id": "jd0O7pVJdAg3"
   },
   "source": [
    "To improve the model, I modified the following hyperparameters:\n",
    "- **Hidden layer sizes**: Compared to the previous model (`MNISTModel`), the second model (`MNISTModel_2`) has larger hidden layer sizes of 1024 units each, while MNISTModel has hidden layer sizes of 512 units each. This change may result in a higher model capacity and potentially increased performance, but it also comes with the trade-off of increased computational requirements and potential overfitting if not properly regularized.\n",
    "- **Learning rate**: Compared to the previous optimizer(`optimizer`), the second optimizer (`optimizer_2`) used a smaller learning rate of 0.0001. The choice of learning rate can impact the training process, including convergence speed and the quality of the resulting model. It's often necessary to experiment with different learning rates to find the optimal balance between convergence and accuracy for a specific task and model.\n",
    "- **Number of epochs**: The previous model (`MNISTModel`) underwent 20 epochs of training, whereas the second model (`MNISTModel_2`) underwent 30 epochs. The primary difference between the two models is the amount of training they undergo. By training for more epochs, the second model (`MNISTModel_2`) has more opportunities to learn from the data, potentially leading to better convergence, improved accuracy, and refined model parameters. However, training for a higher number of epochs also increases the risk of overfitting if the model becomes too specific to the training data and fails to generalize well to unseen data.\n",
    "\n",
    "The second model (`MNISTModel_2`) showed an improvement in test set accuracy, rising from 95.99 % to 98.26 %."
   ]
  },
  {
   "cell_type": "markdown",
   "metadata": {
    "id": "0F1rV9s9AnsE"
   },
   "source": [
    "## Saving your model\n",
    "Using `torch.save`, save your model for future loading."
   ]
  },
  {
   "cell_type": "code",
   "execution_count": 18,
   "metadata": {
    "id": "Kh2ba2tPAnsE"
   },
   "outputs": [],
   "source": [
    "## YOUR CODE HERE ##\n",
    "checkpoint = {'model': model_2,\n",
    "            'state_dict': model_2.state_dict(),\n",
    "            'optimizer' : optimizer_2.state_dict()}\n",
    "\n",
    "torch.save(checkpoint, 'checkpoint_9826.pth')"
   ]
  },
  {
   "cell_type": "code",
   "execution_count": 17,
   "metadata": {
    "id": "FdjoFYi0Gv_I"
   },
   "outputs": [],
   "source": []
  }
 ],
 "metadata": {
  "accelerator": "GPU",
  "colab": {
   "gpuType": "T4",
   "provenance": []
  },
  "kernelspec": {
   "display_name": "Python 3 (ipykernel)",
   "language": "python",
   "name": "python3"
  },
  "language_info": {
   "codemirror_mode": {
    "name": "ipython",
    "version": 3
   },
   "file_extension": ".py",
   "mimetype": "text/x-python",
   "name": "python",
   "nbconvert_exporter": "python",
   "pygments_lexer": "ipython3",
   "version": "3.9.13"
  }
 },
 "nbformat": 4,
 "nbformat_minor": 1
}
